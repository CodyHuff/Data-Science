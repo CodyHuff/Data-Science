{
  "nbformat": 4,
  "nbformat_minor": 0,
  "metadata": {
    "colab": {
      "provenance": [],
      "authorship_tag": "ABX9TyMVpTckaodM7vIyi5FF6G4O",
      "include_colab_link": true
    },
    "kernelspec": {
      "name": "python3",
      "display_name": "Python 3"
    },
    "language_info": {
      "name": "python"
    }
  },
  "cells": [
    {
      "cell_type": "markdown",
      "metadata": {
        "id": "view-in-github",
        "colab_type": "text"
      },
      "source": [
        "<a href=\"https://colab.research.google.com/github/CodyHuff/Data-Science/blob/main/CodyHuff_Lab_1.ipynb\" target=\"_parent\"><img src=\"https://colab.research.google.com/assets/colab-badge.svg\" alt=\"Open In Colab\"/></a>"
      ]
    },
    {
      "cell_type": "code",
      "execution_count": null,
      "metadata": {
        "colab": {
          "base_uri": "https://localhost:8080/"
        },
        "id": "lQhcBqQvXlxL",
        "outputId": "5d47a24e-482c-4b8d-f956-a535b4d8d1c8"
      },
      "outputs": [
        {
          "output_type": "execute_result",
          "data": {
            "text/plain": [
              "16"
            ]
          },
          "metadata": {},
          "execution_count": 1
        }
      ],
      "source": [
        "2*8"
      ]
    },
    {
      "cell_type": "code",
      "source": [],
      "metadata": {
        "id": "blXOZap9XpKu"
      },
      "execution_count": null,
      "outputs": []
    },
    {
      "cell_type": "code",
      "source": [],
      "metadata": {
        "id": "T_IYoHlIXyTh"
      },
      "execution_count": null,
      "outputs": []
    },
    {
      "cell_type": "markdown",
      "source": [],
      "metadata": {
        "id": "aNWBTo2eXysh"
      }
    },
    {
      "cell_type": "code",
      "source": [],
      "metadata": {
        "id": "dSUPsS4VXz2Z"
      },
      "execution_count": null,
      "outputs": []
    },
    {
      "cell_type": "markdown",
      "source": [
        "✈"
      ],
      "metadata": {
        "id": "OizOEvkSYl3D"
      }
    },
    {
      "cell_type": "code",
      "source": [
        "<"
      ],
      "metadata": {
        "id": "0xw9i03WY1II"
      },
      "execution_count": null,
      "outputs": []
    },
    {
      "cell_type": "code",
      "source": [],
      "metadata": {
        "id": "DzEgK0tEZGyo"
      },
      "execution_count": null,
      "outputs": []
    },
    {
      "cell_type": "markdown",
      "source": [
        "🎹"
      ],
      "metadata": {
        "id": "Vsl4w0-Q5Kvs"
      }
    },
    {
      "cell_type": "code",
      "source": [],
      "metadata": {
        "id": "jW1puFXUZG2q"
      },
      "execution_count": null,
      "outputs": []
    },
    {
      "cell_type": "markdown",
      "source": [
        "text"
      ],
      "metadata": {
        "id": "nqgd7u9-ZVg_"
      }
    },
    {
      "cell_type": "markdown",
      "source": [
        "**text**"
      ],
      "metadata": {
        "id": "f4PDR0Ftasp3"
      }
    },
    {
      "cell_type": "markdown",
      "source": [
        "#lab"
      ],
      "metadata": {
        "id": "yh51zzqea0Ub"
      }
    },
    {
      "cell_type": "code",
      "source": [],
      "metadata": {
        "id": "FOkwLXc9a4hf"
      },
      "execution_count": null,
      "outputs": []
    },
    {
      "cell_type": "markdown",
      "source": [
        "##lab2"
      ],
      "metadata": {
        "id": "PH_kBBEkbAF2"
      }
    },
    {
      "cell_type": "code",
      "source": [],
      "metadata": {
        "id": "V41m_lCxa69u"
      },
      "execution_count": null,
      "outputs": []
    },
    {
      "cell_type": "code",
      "source": [],
      "metadata": {
        "colab": {
          "base_uri": "https://localhost:8080/",
          "height": 165
        },
        "id": "aWRfEXmvbG5G",
        "outputId": "a4459e76-d271-465c-9cc8-a65448d464f0"
      },
      "execution_count": null,
      "outputs": [
        {
          "output_type": "error",
          "ename": "NameError",
          "evalue": "ignored",
          "traceback": [
            "\u001b[0;31m---------------------------------------------------------------------------\u001b[0m",
            "\u001b[0;31mNameError\u001b[0m                                 Traceback (most recent call last)",
            "\u001b[0;32m<ipython-input-3-6fcf9dfbd479>\u001b[0m in \u001b[0;36m<module>\u001b[0;34m\u001b[0m\n\u001b[0;32m----> 1\u001b[0;31m \u001b[0mx\u001b[0m\u001b[0;34m\u001b[0m\u001b[0;34m\u001b[0m\u001b[0m\n\u001b[0m",
            "\u001b[0;31mNameError\u001b[0m: name 'x' is not defined"
          ]
        }
      ]
    },
    {
      "cell_type": "markdown",
      "source": [
        "###lab3"
      ],
      "metadata": {
        "id": "pod1VHgGbDiR"
      }
    },
    {
      "cell_type": "code",
      "source": [],
      "metadata": {
        "colab": {
          "base_uri": "https://localhost:8080/",
          "height": 165
        },
        "id": "2RzVe6ZkbE4I",
        "outputId": "6cccf281-79da-4767-e5c7-38c9f338deea"
      },
      "execution_count": null,
      "outputs": [
        {
          "output_type": "error",
          "ename": "NameError",
          "evalue": "ignored",
          "traceback": [
            "\u001b[0;31m---------------------------------------------------------------------------\u001b[0m",
            "\u001b[0;31mNameError\u001b[0m                                 Traceback (most recent call last)",
            "\u001b[0;32m<ipython-input-4-6fcf9dfbd479>\u001b[0m in \u001b[0;36m<module>\u001b[0;34m\u001b[0m\n\u001b[0;32m----> 1\u001b[0;31m \u001b[0mx\u001b[0m\u001b[0;34m\u001b[0m\u001b[0;34m\u001b[0m\u001b[0m\n\u001b[0m",
            "\u001b[0;31mNameError\u001b[0m: name 'x' is not defined"
          ]
        }
      ]
    },
    {
      "cell_type": "code",
      "source": [
        "$x$"
      ],
      "metadata": {
        "colab": {
          "base_uri": "https://localhost:8080/",
          "height": 130
        },
        "id": "dFaH2sEFbLCz",
        "outputId": "d0626198-e6a7-4283-8396-88610c56d88f"
      },
      "execution_count": null,
      "outputs": [
        {
          "output_type": "error",
          "ename": "SyntaxError",
          "evalue": "ignored",
          "traceback": [
            "\u001b[0;36m  File \u001b[0;32m\"<ipython-input-5-46a310311117>\"\u001b[0;36m, line \u001b[0;32m1\u001b[0m\n\u001b[0;31m    $x$\u001b[0m\n\u001b[0m    ^\u001b[0m\n\u001b[0;31mSyntaxError\u001b[0m\u001b[0;31m:\u001b[0m invalid syntax\n"
          ]
        }
      ]
    },
    {
      "cell_type": "code",
      "source": [],
      "metadata": {
        "id": "qgerAuPYbNcV"
      },
      "execution_count": null,
      "outputs": []
    },
    {
      "cell_type": "markdown",
      "source": [
        "$x$"
      ],
      "metadata": {
        "id": "Nb9qJE-gbU8f"
      }
    },
    {
      "cell_type": "code",
      "source": [
        "x=5+3"
      ],
      "metadata": {
        "id": "ZHakFhIpbWvE"
      },
      "execution_count": null,
      "outputs": []
    },
    {
      "cell_type": "code",
      "source": [],
      "metadata": {
        "colab": {
          "base_uri": "https://localhost:8080/",
          "height": 130
        },
        "id": "wV_iNChtbbkN",
        "outputId": "5098adef-7bac-4775-922d-21d6949d17dc"
      },
      "execution_count": null,
      "outputs": [
        {
          "output_type": "error",
          "ename": "SyntaxError",
          "evalue": "ignored",
          "traceback": [
            "\u001b[0;36m  File \u001b[0;32m\"<ipython-input-7-d2686eb1c575>\"\u001b[0;36m, line \u001b[0;32m1\u001b[0m\n\u001b[0;31m    x=\u001b[0m\n\u001b[0m      ^\u001b[0m\n\u001b[0;31mSyntaxError\u001b[0m\u001b[0;31m:\u001b[0m invalid syntax\n"
          ]
        }
      ]
    },
    {
      "cell_type": "code",
      "source": [],
      "metadata": {
        "id": "pXJAPZ2HbfLc"
      },
      "execution_count": null,
      "outputs": []
    },
    {
      "cell_type": "markdown",
      "source": [],
      "metadata": {
        "id": "qmuOl4sUb1pA"
      }
    },
    {
      "cell_type": "markdown",
      "source": [
        "$\\frac{a}{b}$"
      ],
      "metadata": {
        "id": "KQRffcgLboER"
      }
    },
    {
      "cell_type": "code",
      "source": [],
      "metadata": {
        "id": "k7PSEXThbzRZ"
      },
      "execution_count": null,
      "outputs": []
    },
    {
      "cell_type": "markdown",
      "source": [
        "$a^b$"
      ],
      "metadata": {
        "id": "TL3BaOn2b2to"
      }
    },
    {
      "cell_type": "code",
      "source": [],
      "metadata": {
        "id": "Cp5tPSIbb6sG"
      },
      "execution_count": null,
      "outputs": []
    },
    {
      "cell_type": "markdown",
      "source": [
        "a^{12345}"
      ],
      "metadata": {
        "id": "UW0ewdTrcTzY"
      }
    },
    {
      "cell_type": "code",
      "source": [],
      "metadata": {
        "id": "17GrDz-2cZDy"
      },
      "execution_count": null,
      "outputs": []
    }
  ]
}